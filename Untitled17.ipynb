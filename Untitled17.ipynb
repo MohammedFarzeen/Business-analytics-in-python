{
  "nbformat": 4,
  "nbformat_minor": 0,
  "metadata": {
    "colab": {
      "provenance": [],
      "authorship_tag": "ABX9TyNVCIi3RfetUx1FkklZ8kl9",
      "include_colab_link": true
    },
    "kernelspec": {
      "name": "python3",
      "display_name": "Python 3"
    },
    "language_info": {
      "name": "python"
    }
  },
  "cells": [
    {
      "cell_type": "markdown",
      "metadata": {
        "id": "view-in-github",
        "colab_type": "text"
      },
      "source": [
        "<a href=\"https://colab.research.google.com/github/MohammedFarzeen/Business-analytics-in-python/blob/main/Untitled17.ipynb\" target=\"_parent\"><img src=\"https://colab.research.google.com/assets/colab-badge.svg\" alt=\"Open In Colab\"/></a>"
      ]
    },
    {
      "cell_type": "code",
      "execution_count": 1,
      "metadata": {
        "id": "qcuLUCVZ0MKV"
      },
      "outputs": [],
      "source": [
        "import pandas as pd"
      ]
    },
    {
      "cell_type": "code",
      "source": [
        "df=pd.read_csv(\"Supermarket_sales.csv\")"
      ],
      "metadata": {
        "id": "HHOQDiWN3743"
      },
      "execution_count": 5,
      "outputs": []
    },
    {
      "cell_type": "code",
      "source": [
        "df"
      ],
      "metadata": {
        "colab": {
          "base_uri": "https://localhost:8080/",
          "height": 661
        },
        "id": "9PKZMI4H4X6r",
        "outputId": "d6ebb184-60e4-489c-aac5-a2cdbb993ce5"
      },
      "execution_count": 7,
      "outputs": [
        {
          "output_type": "execute_result",
          "data": {
            "text/plain": [
              "       No    InvoiceID Branch       City Customertype  Gender  \\\n",
              "0       1  750-67-8428      A     Yangon       Member  Female   \n",
              "1       2  226-31-3081      C  Naypyitaw       Normal  Female   \n",
              "2       3  631-41-3108      A     Yangon       Normal    Male   \n",
              "3       4  123-19-1176      A     Yangon       Member    Male   \n",
              "4       5  373-73-7910      A     Yangon       Normal    Male   \n",
              "..    ...          ...    ...        ...          ...     ...   \n",
              "995   996  233-67-5758      C  Naypyitaw       Normal    Male   \n",
              "996   997  303-96-2227      B   Mandalay       Normal  Female   \n",
              "997   998  727-02-1313      A     Yangon       Member    Male   \n",
              "998   999  347-56-2442      A     Yangon       Normal    Male   \n",
              "999  1000  849-09-3807      A     Yangon       Member  Female   \n",
              "\n",
              "                Productline  Unitprice  Quantity      Tax      Total  \\\n",
              "0         Health and beauty      74.69         7  26.1415   548.9715   \n",
              "1    Electronic accessories      15.28         5   3.8200    80.2200   \n",
              "2        Home and lifestyle      46.33         7  16.2155   340.5255   \n",
              "3         Health and beauty      58.22         8  23.2880   489.0480   \n",
              "4         Sports and travel      86.31         7  30.2085   634.3785   \n",
              "..                      ...        ...       ...      ...        ...   \n",
              "995       Health and beauty      40.35         1   2.0175    42.3675   \n",
              "996      Home and lifestyle      97.38        10  48.6900  1022.4900   \n",
              "997      Food and beverages      31.84         1   1.5920    33.4320   \n",
              "998      Home and lifestyle      65.82         1   3.2910    69.1110   \n",
              "999     Fashion accessories      88.34         7  30.9190   649.2990   \n",
              "\n",
              "          Date   Time      Payment    cogs  gross_margin_percentage  \\\n",
              "0     1/5/2019  13:08      Ewallet  522.83                 4.761905   \n",
              "1     3/8/2019  10:29         Cash   76.40                 4.761905   \n",
              "2     3/3/2019  13:23  Credit card  324.31                 4.761905   \n",
              "3    1/27/2019  20:33      Ewallet  465.76                 4.761905   \n",
              "4     2/8/2019  10:37      Ewallet  604.17                 4.761905   \n",
              "..         ...    ...          ...     ...                      ...   \n",
              "995  1/29/2019  13:46      Ewallet   40.35                 4.761905   \n",
              "996   3/2/2019  17:16      Ewallet  973.80                 4.761905   \n",
              "997   2/9/2019  13:22         Cash   31.84                 4.761905   \n",
              "998  2/22/2019  15:33         Cash   65.82                 4.761905   \n",
              "999  2/18/2019  13:28         Cash  618.38                 4.761905   \n",
              "\n",
              "     gross_iincome  Rating  \n",
              "0          26.1415     9.1  \n",
              "1           3.8200     9.6  \n",
              "2          16.2155     7.4  \n",
              "3          23.2880     8.4  \n",
              "4          30.2085     5.3  \n",
              "..             ...     ...  \n",
              "995         2.0175     6.2  \n",
              "996        48.6900     4.4  \n",
              "997         1.5920     7.7  \n",
              "998         3.2910     4.1  \n",
              "999        30.9190     6.6  \n",
              "\n",
              "[1000 rows x 18 columns]"
            ],
            "text/html": [
              "\n",
              "  <div id=\"df-94a5b020-a465-4e6b-88e1-c6276c2b1139\">\n",
              "    <div class=\"colab-df-container\">\n",
              "      <div>\n",
              "<style scoped>\n",
              "    .dataframe tbody tr th:only-of-type {\n",
              "        vertical-align: middle;\n",
              "    }\n",
              "\n",
              "    .dataframe tbody tr th {\n",
              "        vertical-align: top;\n",
              "    }\n",
              "\n",
              "    .dataframe thead th {\n",
              "        text-align: right;\n",
              "    }\n",
              "</style>\n",
              "<table border=\"1\" class=\"dataframe\">\n",
              "  <thead>\n",
              "    <tr style=\"text-align: right;\">\n",
              "      <th></th>\n",
              "      <th>No</th>\n",
              "      <th>InvoiceID</th>\n",
              "      <th>Branch</th>\n",
              "      <th>City</th>\n",
              "      <th>Customertype</th>\n",
              "      <th>Gender</th>\n",
              "      <th>Productline</th>\n",
              "      <th>Unitprice</th>\n",
              "      <th>Quantity</th>\n",
              "      <th>Tax</th>\n",
              "      <th>Total</th>\n",
              "      <th>Date</th>\n",
              "      <th>Time</th>\n",
              "      <th>Payment</th>\n",
              "      <th>cogs</th>\n",
              "      <th>gross_margin_percentage</th>\n",
              "      <th>gross_iincome</th>\n",
              "      <th>Rating</th>\n",
              "    </tr>\n",
              "  </thead>\n",
              "  <tbody>\n",
              "    <tr>\n",
              "      <th>0</th>\n",
              "      <td>1</td>\n",
              "      <td>750-67-8428</td>\n",
              "      <td>A</td>\n",
              "      <td>Yangon</td>\n",
              "      <td>Member</td>\n",
              "      <td>Female</td>\n",
              "      <td>Health and beauty</td>\n",
              "      <td>74.69</td>\n",
              "      <td>7</td>\n",
              "      <td>26.1415</td>\n",
              "      <td>548.9715</td>\n",
              "      <td>1/5/2019</td>\n",
              "      <td>13:08</td>\n",
              "      <td>Ewallet</td>\n",
              "      <td>522.83</td>\n",
              "      <td>4.761905</td>\n",
              "      <td>26.1415</td>\n",
              "      <td>9.1</td>\n",
              "    </tr>\n",
              "    <tr>\n",
              "      <th>1</th>\n",
              "      <td>2</td>\n",
              "      <td>226-31-3081</td>\n",
              "      <td>C</td>\n",
              "      <td>Naypyitaw</td>\n",
              "      <td>Normal</td>\n",
              "      <td>Female</td>\n",
              "      <td>Electronic accessories</td>\n",
              "      <td>15.28</td>\n",
              "      <td>5</td>\n",
              "      <td>3.8200</td>\n",
              "      <td>80.2200</td>\n",
              "      <td>3/8/2019</td>\n",
              "      <td>10:29</td>\n",
              "      <td>Cash</td>\n",
              "      <td>76.40</td>\n",
              "      <td>4.761905</td>\n",
              "      <td>3.8200</td>\n",
              "      <td>9.6</td>\n",
              "    </tr>\n",
              "    <tr>\n",
              "      <th>2</th>\n",
              "      <td>3</td>\n",
              "      <td>631-41-3108</td>\n",
              "      <td>A</td>\n",
              "      <td>Yangon</td>\n",
              "      <td>Normal</td>\n",
              "      <td>Male</td>\n",
              "      <td>Home and lifestyle</td>\n",
              "      <td>46.33</td>\n",
              "      <td>7</td>\n",
              "      <td>16.2155</td>\n",
              "      <td>340.5255</td>\n",
              "      <td>3/3/2019</td>\n",
              "      <td>13:23</td>\n",
              "      <td>Credit card</td>\n",
              "      <td>324.31</td>\n",
              "      <td>4.761905</td>\n",
              "      <td>16.2155</td>\n",
              "      <td>7.4</td>\n",
              "    </tr>\n",
              "    <tr>\n",
              "      <th>3</th>\n",
              "      <td>4</td>\n",
              "      <td>123-19-1176</td>\n",
              "      <td>A</td>\n",
              "      <td>Yangon</td>\n",
              "      <td>Member</td>\n",
              "      <td>Male</td>\n",
              "      <td>Health and beauty</td>\n",
              "      <td>58.22</td>\n",
              "      <td>8</td>\n",
              "      <td>23.2880</td>\n",
              "      <td>489.0480</td>\n",
              "      <td>1/27/2019</td>\n",
              "      <td>20:33</td>\n",
              "      <td>Ewallet</td>\n",
              "      <td>465.76</td>\n",
              "      <td>4.761905</td>\n",
              "      <td>23.2880</td>\n",
              "      <td>8.4</td>\n",
              "    </tr>\n",
              "    <tr>\n",
              "      <th>4</th>\n",
              "      <td>5</td>\n",
              "      <td>373-73-7910</td>\n",
              "      <td>A</td>\n",
              "      <td>Yangon</td>\n",
              "      <td>Normal</td>\n",
              "      <td>Male</td>\n",
              "      <td>Sports and travel</td>\n",
              "      <td>86.31</td>\n",
              "      <td>7</td>\n",
              "      <td>30.2085</td>\n",
              "      <td>634.3785</td>\n",
              "      <td>2/8/2019</td>\n",
              "      <td>10:37</td>\n",
              "      <td>Ewallet</td>\n",
              "      <td>604.17</td>\n",
              "      <td>4.761905</td>\n",
              "      <td>30.2085</td>\n",
              "      <td>5.3</td>\n",
              "    </tr>\n",
              "    <tr>\n",
              "      <th>...</th>\n",
              "      <td>...</td>\n",
              "      <td>...</td>\n",
              "      <td>...</td>\n",
              "      <td>...</td>\n",
              "      <td>...</td>\n",
              "      <td>...</td>\n",
              "      <td>...</td>\n",
              "      <td>...</td>\n",
              "      <td>...</td>\n",
              "      <td>...</td>\n",
              "      <td>...</td>\n",
              "      <td>...</td>\n",
              "      <td>...</td>\n",
              "      <td>...</td>\n",
              "      <td>...</td>\n",
              "      <td>...</td>\n",
              "      <td>...</td>\n",
              "      <td>...</td>\n",
              "    </tr>\n",
              "    <tr>\n",
              "      <th>995</th>\n",
              "      <td>996</td>\n",
              "      <td>233-67-5758</td>\n",
              "      <td>C</td>\n",
              "      <td>Naypyitaw</td>\n",
              "      <td>Normal</td>\n",
              "      <td>Male</td>\n",
              "      <td>Health and beauty</td>\n",
              "      <td>40.35</td>\n",
              "      <td>1</td>\n",
              "      <td>2.0175</td>\n",
              "      <td>42.3675</td>\n",
              "      <td>1/29/2019</td>\n",
              "      <td>13:46</td>\n",
              "      <td>Ewallet</td>\n",
              "      <td>40.35</td>\n",
              "      <td>4.761905</td>\n",
              "      <td>2.0175</td>\n",
              "      <td>6.2</td>\n",
              "    </tr>\n",
              "    <tr>\n",
              "      <th>996</th>\n",
              "      <td>997</td>\n",
              "      <td>303-96-2227</td>\n",
              "      <td>B</td>\n",
              "      <td>Mandalay</td>\n",
              "      <td>Normal</td>\n",
              "      <td>Female</td>\n",
              "      <td>Home and lifestyle</td>\n",
              "      <td>97.38</td>\n",
              "      <td>10</td>\n",
              "      <td>48.6900</td>\n",
              "      <td>1022.4900</td>\n",
              "      <td>3/2/2019</td>\n",
              "      <td>17:16</td>\n",
              "      <td>Ewallet</td>\n",
              "      <td>973.80</td>\n",
              "      <td>4.761905</td>\n",
              "      <td>48.6900</td>\n",
              "      <td>4.4</td>\n",
              "    </tr>\n",
              "    <tr>\n",
              "      <th>997</th>\n",
              "      <td>998</td>\n",
              "      <td>727-02-1313</td>\n",
              "      <td>A</td>\n",
              "      <td>Yangon</td>\n",
              "      <td>Member</td>\n",
              "      <td>Male</td>\n",
              "      <td>Food and beverages</td>\n",
              "      <td>31.84</td>\n",
              "      <td>1</td>\n",
              "      <td>1.5920</td>\n",
              "      <td>33.4320</td>\n",
              "      <td>2/9/2019</td>\n",
              "      <td>13:22</td>\n",
              "      <td>Cash</td>\n",
              "      <td>31.84</td>\n",
              "      <td>4.761905</td>\n",
              "      <td>1.5920</td>\n",
              "      <td>7.7</td>\n",
              "    </tr>\n",
              "    <tr>\n",
              "      <th>998</th>\n",
              "      <td>999</td>\n",
              "      <td>347-56-2442</td>\n",
              "      <td>A</td>\n",
              "      <td>Yangon</td>\n",
              "      <td>Normal</td>\n",
              "      <td>Male</td>\n",
              "      <td>Home and lifestyle</td>\n",
              "      <td>65.82</td>\n",
              "      <td>1</td>\n",
              "      <td>3.2910</td>\n",
              "      <td>69.1110</td>\n",
              "      <td>2/22/2019</td>\n",
              "      <td>15:33</td>\n",
              "      <td>Cash</td>\n",
              "      <td>65.82</td>\n",
              "      <td>4.761905</td>\n",
              "      <td>3.2910</td>\n",
              "      <td>4.1</td>\n",
              "    </tr>\n",
              "    <tr>\n",
              "      <th>999</th>\n",
              "      <td>1000</td>\n",
              "      <td>849-09-3807</td>\n",
              "      <td>A</td>\n",
              "      <td>Yangon</td>\n",
              "      <td>Member</td>\n",
              "      <td>Female</td>\n",
              "      <td>Fashion accessories</td>\n",
              "      <td>88.34</td>\n",
              "      <td>7</td>\n",
              "      <td>30.9190</td>\n",
              "      <td>649.2990</td>\n",
              "      <td>2/18/2019</td>\n",
              "      <td>13:28</td>\n",
              "      <td>Cash</td>\n",
              "      <td>618.38</td>\n",
              "      <td>4.761905</td>\n",
              "      <td>30.9190</td>\n",
              "      <td>6.6</td>\n",
              "    </tr>\n",
              "  </tbody>\n",
              "</table>\n",
              "<p>1000 rows × 18 columns</p>\n",
              "</div>\n",
              "      <button class=\"colab-df-convert\" onclick=\"convertToInteractive('df-94a5b020-a465-4e6b-88e1-c6276c2b1139')\"\n",
              "              title=\"Convert this dataframe to an interactive table.\"\n",
              "              style=\"display:none;\">\n",
              "        \n",
              "  <svg xmlns=\"http://www.w3.org/2000/svg\" height=\"24px\"viewBox=\"0 0 24 24\"\n",
              "       width=\"24px\">\n",
              "    <path d=\"M0 0h24v24H0V0z\" fill=\"none\"/>\n",
              "    <path d=\"M18.56 5.44l.94 2.06.94-2.06 2.06-.94-2.06-.94-.94-2.06-.94 2.06-2.06.94zm-11 1L8.5 8.5l.94-2.06 2.06-.94-2.06-.94L8.5 2.5l-.94 2.06-2.06.94zm10 10l.94 2.06.94-2.06 2.06-.94-2.06-.94-.94-2.06-.94 2.06-2.06.94z\"/><path d=\"M17.41 7.96l-1.37-1.37c-.4-.4-.92-.59-1.43-.59-.52 0-1.04.2-1.43.59L10.3 9.45l-7.72 7.72c-.78.78-.78 2.05 0 2.83L4 21.41c.39.39.9.59 1.41.59.51 0 1.02-.2 1.41-.59l7.78-7.78 2.81-2.81c.8-.78.8-2.07 0-2.86zM5.41 20L4 18.59l7.72-7.72 1.47 1.35L5.41 20z\"/>\n",
              "  </svg>\n",
              "      </button>\n",
              "      \n",
              "  <style>\n",
              "    .colab-df-container {\n",
              "      display:flex;\n",
              "      flex-wrap:wrap;\n",
              "      gap: 12px;\n",
              "    }\n",
              "\n",
              "    .colab-df-convert {\n",
              "      background-color: #E8F0FE;\n",
              "      border: none;\n",
              "      border-radius: 50%;\n",
              "      cursor: pointer;\n",
              "      display: none;\n",
              "      fill: #1967D2;\n",
              "      height: 32px;\n",
              "      padding: 0 0 0 0;\n",
              "      width: 32px;\n",
              "    }\n",
              "\n",
              "    .colab-df-convert:hover {\n",
              "      background-color: #E2EBFA;\n",
              "      box-shadow: 0px 1px 2px rgba(60, 64, 67, 0.3), 0px 1px 3px 1px rgba(60, 64, 67, 0.15);\n",
              "      fill: #174EA6;\n",
              "    }\n",
              "\n",
              "    [theme=dark] .colab-df-convert {\n",
              "      background-color: #3B4455;\n",
              "      fill: #D2E3FC;\n",
              "    }\n",
              "\n",
              "    [theme=dark] .colab-df-convert:hover {\n",
              "      background-color: #434B5C;\n",
              "      box-shadow: 0px 1px 3px 1px rgba(0, 0, 0, 0.15);\n",
              "      filter: drop-shadow(0px 1px 2px rgba(0, 0, 0, 0.3));\n",
              "      fill: #FFFFFF;\n",
              "    }\n",
              "  </style>\n",
              "\n",
              "      <script>\n",
              "        const buttonEl =\n",
              "          document.querySelector('#df-94a5b020-a465-4e6b-88e1-c6276c2b1139 button.colab-df-convert');\n",
              "        buttonEl.style.display =\n",
              "          google.colab.kernel.accessAllowed ? 'block' : 'none';\n",
              "\n",
              "        async function convertToInteractive(key) {\n",
              "          const element = document.querySelector('#df-94a5b020-a465-4e6b-88e1-c6276c2b1139');\n",
              "          const dataTable =\n",
              "            await google.colab.kernel.invokeFunction('convertToInteractive',\n",
              "                                                     [key], {});\n",
              "          if (!dataTable) return;\n",
              "\n",
              "          const docLinkHtml = 'Like what you see? Visit the ' +\n",
              "            '<a target=\"_blank\" href=https://colab.research.google.com/notebooks/data_table.ipynb>data table notebook</a>'\n",
              "            + ' to learn more about interactive tables.';\n",
              "          element.innerHTML = '';\n",
              "          dataTable['output_type'] = 'display_data';\n",
              "          await google.colab.output.renderOutput(dataTable, element);\n",
              "          const docLink = document.createElement('div');\n",
              "          docLink.innerHTML = docLinkHtml;\n",
              "          element.appendChild(docLink);\n",
              "        }\n",
              "      </script>\n",
              "    </div>\n",
              "  </div>\n",
              "  "
            ]
          },
          "metadata": {},
          "execution_count": 7
        }
      ]
    },
    {
      "cell_type": "code",
      "source": [
        "df.head"
      ],
      "metadata": {
        "colab": {
          "base_uri": "https://localhost:8080/"
        },
        "id": "v43QERYz4YFq",
        "outputId": "83a44dcc-f8ea-41d2-e0ed-a79b5c112aa6"
      },
      "execution_count": 8,
      "outputs": [
        {
          "output_type": "execute_result",
          "data": {
            "text/plain": [
              "<bound method NDFrame.head of        No    InvoiceID Branch       City Customertype  Gender  \\\n",
              "0       1  750-67-8428      A     Yangon       Member  Female   \n",
              "1       2  226-31-3081      C  Naypyitaw       Normal  Female   \n",
              "2       3  631-41-3108      A     Yangon       Normal    Male   \n",
              "3       4  123-19-1176      A     Yangon       Member    Male   \n",
              "4       5  373-73-7910      A     Yangon       Normal    Male   \n",
              "..    ...          ...    ...        ...          ...     ...   \n",
              "995   996  233-67-5758      C  Naypyitaw       Normal    Male   \n",
              "996   997  303-96-2227      B   Mandalay       Normal  Female   \n",
              "997   998  727-02-1313      A     Yangon       Member    Male   \n",
              "998   999  347-56-2442      A     Yangon       Normal    Male   \n",
              "999  1000  849-09-3807      A     Yangon       Member  Female   \n",
              "\n",
              "                Productline  Unitprice  Quantity      Tax      Total  \\\n",
              "0         Health and beauty      74.69         7  26.1415   548.9715   \n",
              "1    Electronic accessories      15.28         5   3.8200    80.2200   \n",
              "2        Home and lifestyle      46.33         7  16.2155   340.5255   \n",
              "3         Health and beauty      58.22         8  23.2880   489.0480   \n",
              "4         Sports and travel      86.31         7  30.2085   634.3785   \n",
              "..                      ...        ...       ...      ...        ...   \n",
              "995       Health and beauty      40.35         1   2.0175    42.3675   \n",
              "996      Home and lifestyle      97.38        10  48.6900  1022.4900   \n",
              "997      Food and beverages      31.84         1   1.5920    33.4320   \n",
              "998      Home and lifestyle      65.82         1   3.2910    69.1110   \n",
              "999     Fashion accessories      88.34         7  30.9190   649.2990   \n",
              "\n",
              "          Date   Time      Payment    cogs  gross_margin_percentage  \\\n",
              "0     1/5/2019  13:08      Ewallet  522.83                 4.761905   \n",
              "1     3/8/2019  10:29         Cash   76.40                 4.761905   \n",
              "2     3/3/2019  13:23  Credit card  324.31                 4.761905   \n",
              "3    1/27/2019  20:33      Ewallet  465.76                 4.761905   \n",
              "4     2/8/2019  10:37      Ewallet  604.17                 4.761905   \n",
              "..         ...    ...          ...     ...                      ...   \n",
              "995  1/29/2019  13:46      Ewallet   40.35                 4.761905   \n",
              "996   3/2/2019  17:16      Ewallet  973.80                 4.761905   \n",
              "997   2/9/2019  13:22         Cash   31.84                 4.761905   \n",
              "998  2/22/2019  15:33         Cash   65.82                 4.761905   \n",
              "999  2/18/2019  13:28         Cash  618.38                 4.761905   \n",
              "\n",
              "     gross_iincome  Rating  \n",
              "0          26.1415     9.1  \n",
              "1           3.8200     9.6  \n",
              "2          16.2155     7.4  \n",
              "3          23.2880     8.4  \n",
              "4          30.2085     5.3  \n",
              "..             ...     ...  \n",
              "995         2.0175     6.2  \n",
              "996        48.6900     4.4  \n",
              "997         1.5920     7.7  \n",
              "998         3.2910     4.1  \n",
              "999        30.9190     6.6  \n",
              "\n",
              "[1000 rows x 18 columns]>"
            ]
          },
          "metadata": {},
          "execution_count": 8
        }
      ]
    },
    {
      "cell_type": "code",
      "source": [
        "df.tail"
      ],
      "metadata": {
        "colab": {
          "base_uri": "https://localhost:8080/"
        },
        "id": "6f0DFMqC9C4k",
        "outputId": "c463e7c7-5b6e-4810-d2c1-6d79ebb6fca9"
      },
      "execution_count": 9,
      "outputs": [
        {
          "output_type": "execute_result",
          "data": {
            "text/plain": [
              "<bound method NDFrame.tail of        No    InvoiceID Branch       City Customertype  Gender  \\\n",
              "0       1  750-67-8428      A     Yangon       Member  Female   \n",
              "1       2  226-31-3081      C  Naypyitaw       Normal  Female   \n",
              "2       3  631-41-3108      A     Yangon       Normal    Male   \n",
              "3       4  123-19-1176      A     Yangon       Member    Male   \n",
              "4       5  373-73-7910      A     Yangon       Normal    Male   \n",
              "..    ...          ...    ...        ...          ...     ...   \n",
              "995   996  233-67-5758      C  Naypyitaw       Normal    Male   \n",
              "996   997  303-96-2227      B   Mandalay       Normal  Female   \n",
              "997   998  727-02-1313      A     Yangon       Member    Male   \n",
              "998   999  347-56-2442      A     Yangon       Normal    Male   \n",
              "999  1000  849-09-3807      A     Yangon       Member  Female   \n",
              "\n",
              "                Productline  Unitprice  Quantity      Tax      Total  \\\n",
              "0         Health and beauty      74.69         7  26.1415   548.9715   \n",
              "1    Electronic accessories      15.28         5   3.8200    80.2200   \n",
              "2        Home and lifestyle      46.33         7  16.2155   340.5255   \n",
              "3         Health and beauty      58.22         8  23.2880   489.0480   \n",
              "4         Sports and travel      86.31         7  30.2085   634.3785   \n",
              "..                      ...        ...       ...      ...        ...   \n",
              "995       Health and beauty      40.35         1   2.0175    42.3675   \n",
              "996      Home and lifestyle      97.38        10  48.6900  1022.4900   \n",
              "997      Food and beverages      31.84         1   1.5920    33.4320   \n",
              "998      Home and lifestyle      65.82         1   3.2910    69.1110   \n",
              "999     Fashion accessories      88.34         7  30.9190   649.2990   \n",
              "\n",
              "          Date   Time      Payment    cogs  gross_margin_percentage  \\\n",
              "0     1/5/2019  13:08      Ewallet  522.83                 4.761905   \n",
              "1     3/8/2019  10:29         Cash   76.40                 4.761905   \n",
              "2     3/3/2019  13:23  Credit card  324.31                 4.761905   \n",
              "3    1/27/2019  20:33      Ewallet  465.76                 4.761905   \n",
              "4     2/8/2019  10:37      Ewallet  604.17                 4.761905   \n",
              "..         ...    ...          ...     ...                      ...   \n",
              "995  1/29/2019  13:46      Ewallet   40.35                 4.761905   \n",
              "996   3/2/2019  17:16      Ewallet  973.80                 4.761905   \n",
              "997   2/9/2019  13:22         Cash   31.84                 4.761905   \n",
              "998  2/22/2019  15:33         Cash   65.82                 4.761905   \n",
              "999  2/18/2019  13:28         Cash  618.38                 4.761905   \n",
              "\n",
              "     gross_iincome  Rating  \n",
              "0          26.1415     9.1  \n",
              "1           3.8200     9.6  \n",
              "2          16.2155     7.4  \n",
              "3          23.2880     8.4  \n",
              "4          30.2085     5.3  \n",
              "..             ...     ...  \n",
              "995         2.0175     6.2  \n",
              "996        48.6900     4.4  \n",
              "997         1.5920     7.7  \n",
              "998         3.2910     4.1  \n",
              "999        30.9190     6.6  \n",
              "\n",
              "[1000 rows x 18 columns]>"
            ]
          },
          "metadata": {},
          "execution_count": 9
        }
      ]
    },
    {
      "cell_type": "code",
      "source": [
        "df.InvoiceID"
      ],
      "metadata": {
        "colab": {
          "base_uri": "https://localhost:8080/"
        },
        "id": "172g4Ja89gsd",
        "outputId": "2315bc3d-e30f-4471-edbb-71ce7f16669d"
      },
      "execution_count": 11,
      "outputs": [
        {
          "output_type": "execute_result",
          "data": {
            "text/plain": [
              "0      750-67-8428\n",
              "1      226-31-3081\n",
              "2      631-41-3108\n",
              "3      123-19-1176\n",
              "4      373-73-7910\n",
              "          ...     \n",
              "995    233-67-5758\n",
              "996    303-96-2227\n",
              "997    727-02-1313\n",
              "998    347-56-2442\n",
              "999    849-09-3807\n",
              "Name: InvoiceID, Length: 1000, dtype: object"
            ]
          },
          "metadata": {},
          "execution_count": 11
        }
      ]
    },
    {
      "cell_type": "code",
      "source": [
        "df.InvoiceID[1]"
      ],
      "metadata": {
        "colab": {
          "base_uri": "https://localhost:8080/",
          "height": 35
        },
        "id": "5QNfodDg-F_M",
        "outputId": "41a41a79-1885-42c0-d493-18d77d6350d6"
      },
      "execution_count": 12,
      "outputs": [
        {
          "output_type": "execute_result",
          "data": {
            "text/plain": [
              "'226-31-3081'"
            ],
            "application/vnd.google.colaboratory.intrinsic+json": {
              "type": "string"
            }
          },
          "metadata": {},
          "execution_count": 12
        }
      ]
    },
    {
      "cell_type": "code",
      "source": [
        "df.City"
      ],
      "metadata": {
        "colab": {
          "base_uri": "https://localhost:8080/"
        },
        "id": "JpSFqbAW-T_D",
        "outputId": "a008cb55-a5cb-4fb6-9b3d-900a5218b7ab"
      },
      "execution_count": 14,
      "outputs": [
        {
          "output_type": "execute_result",
          "data": {
            "text/plain": [
              "0         Yangon\n",
              "1      Naypyitaw\n",
              "2         Yangon\n",
              "3         Yangon\n",
              "4         Yangon\n",
              "         ...    \n",
              "995    Naypyitaw\n",
              "996     Mandalay\n",
              "997       Yangon\n",
              "998       Yangon\n",
              "999       Yangon\n",
              "Name: City, Length: 1000, dtype: object"
            ]
          },
          "metadata": {},
          "execution_count": 14
        }
      ]
    },
    {
      "cell_type": "code",
      "source": [
        "df.City[48]"
      ],
      "metadata": {
        "colab": {
          "base_uri": "https://localhost:8080/",
          "height": 35
        },
        "id": "iuK_tN5B-XhT",
        "outputId": "3d46d22b-ac31-4caa-e8ef-45f10f3b1a73"
      },
      "execution_count": 16,
      "outputs": [
        {
          "output_type": "execute_result",
          "data": {
            "text/plain": [
              "'Mandalay'"
            ],
            "application/vnd.google.colaboratory.intrinsic+json": {
              "type": "string"
            }
          },
          "metadata": {},
          "execution_count": 16
        }
      ]
    },
    {
      "cell_type": "code",
      "source": [
        "df.Branch"
      ],
      "metadata": {
        "colab": {
          "base_uri": "https://localhost:8080/"
        },
        "id": "ZPXUnQl7-h9p",
        "outputId": "badac1e4-1610-4bfa-b611-a32c3ae2b659"
      },
      "execution_count": 17,
      "outputs": [
        {
          "output_type": "execute_result",
          "data": {
            "text/plain": [
              "0      A\n",
              "1      C\n",
              "2      A\n",
              "3      A\n",
              "4      A\n",
              "      ..\n",
              "995    C\n",
              "996    B\n",
              "997    A\n",
              "998    A\n",
              "999    A\n",
              "Name: Branch, Length: 1000, dtype: object"
            ]
          },
          "metadata": {},
          "execution_count": 17
        }
      ]
    },
    {
      "cell_type": "code",
      "source": [
        "df.Branch[99]"
      ],
      "metadata": {
        "colab": {
          "base_uri": "https://localhost:8080/",
          "height": 35
        },
        "id": "q5Orz0Rt-4nQ",
        "outputId": "bf85faeb-5486-4094-bad4-6b95e459ee65"
      },
      "execution_count": 18,
      "outputs": [
        {
          "output_type": "execute_result",
          "data": {
            "text/plain": [
              "'B'"
            ],
            "application/vnd.google.colaboratory.intrinsic+json": {
              "type": "string"
            }
          },
          "metadata": {},
          "execution_count": 18
        }
      ]
    },
    {
      "cell_type": "code",
      "source": [
        "df.Customertype"
      ],
      "metadata": {
        "colab": {
          "base_uri": "https://localhost:8080/"
        },
        "id": "RyvRbY4Y-7xP",
        "outputId": "437b921e-b9dc-487d-c122-597898c60afe"
      },
      "execution_count": 19,
      "outputs": [
        {
          "output_type": "execute_result",
          "data": {
            "text/plain": [
              "0      Member\n",
              "1      Normal\n",
              "2      Normal\n",
              "3      Member\n",
              "4      Normal\n",
              "        ...  \n",
              "995    Normal\n",
              "996    Normal\n",
              "997    Member\n",
              "998    Normal\n",
              "999    Member\n",
              "Name: Customertype, Length: 1000, dtype: object"
            ]
          },
          "metadata": {},
          "execution_count": 19
        }
      ]
    },
    {
      "cell_type": "code",
      "source": [
        "df.Customertype[999]"
      ],
      "metadata": {
        "colab": {
          "base_uri": "https://localhost:8080/",
          "height": 35
        },
        "id": "rRtWPREP_hSb",
        "outputId": "ab09f378-57d2-486a-fa57-9015529a283b"
      },
      "execution_count": 21,
      "outputs": [
        {
          "output_type": "execute_result",
          "data": {
            "text/plain": [
              "'Member'"
            ],
            "application/vnd.google.colaboratory.intrinsic+json": {
              "type": "string"
            }
          },
          "metadata": {},
          "execution_count": 21
        }
      ]
    },
    {
      "cell_type": "code",
      "source": [
        "df.shape"
      ],
      "metadata": {
        "colab": {
          "base_uri": "https://localhost:8080/"
        },
        "id": "Fqet-whS_nBL",
        "outputId": "d7be0fc4-b118-49ea-b318-5885d1ea8173"
      },
      "execution_count": 22,
      "outputs": [
        {
          "output_type": "execute_result",
          "data": {
            "text/plain": [
              "(1000, 18)"
            ]
          },
          "metadata": {},
          "execution_count": 22
        }
      ]
    },
    {
      "cell_type": "code",
      "source": [
        "if df.City[18]==\"Yangon\":\n",
        "  print(df.Branch[18])"
      ],
      "metadata": {
        "colab": {
          "base_uri": "https://localhost:8080/"
        },
        "id": "nMubnICoAChN",
        "outputId": "13f7112f-2fe5-4fd3-9c05-ffb1d591a59d"
      },
      "execution_count": 24,
      "outputs": [
        {
          "output_type": "stream",
          "name": "stdout",
          "text": [
            "A\n"
          ]
        }
      ]
    },
    {
      "cell_type": "code",
      "source": [
        "df.Unitprice.max()"
      ],
      "metadata": {
        "colab": {
          "base_uri": "https://localhost:8080/"
        },
        "id": "DgAnG0hWA2J_",
        "outputId": "e0f8c8c5-5810-45f7-e568-df09f4419916"
      },
      "execution_count": 25,
      "outputs": [
        {
          "output_type": "execute_result",
          "data": {
            "text/plain": [
              "99.96"
            ]
          },
          "metadata": {},
          "execution_count": 25
        }
      ]
    },
    {
      "cell_type": "code",
      "source": [
        "df.Unitprice.min()"
      ],
      "metadata": {
        "colab": {
          "base_uri": "https://localhost:8080/"
        },
        "id": "bawuqUCRBx1u",
        "outputId": "5cb8a6b2-4301-4909-ef9b-468dfe2fbb79"
      },
      "execution_count": 26,
      "outputs": [
        {
          "output_type": "execute_result",
          "data": {
            "text/plain": [
              "10.08"
            ]
          },
          "metadata": {},
          "execution_count": 26
        }
      ]
    },
    {
      "cell_type": "code",
      "source": [
        "df.Unitprice.mean()"
      ],
      "metadata": {
        "colab": {
          "base_uri": "https://localhost:8080/"
        },
        "id": "pn-lWaaUCdmj",
        "outputId": "666a017e-f5cc-4dbc-8d0e-1c09bd82b4af"
      },
      "execution_count": 28,
      "outputs": [
        {
          "output_type": "execute_result",
          "data": {
            "text/plain": [
              "55.67213"
            ]
          },
          "metadata": {},
          "execution_count": 28
        }
      ]
    },
    {
      "cell_type": "code",
      "source": [
        "df.Quantity.max()"
      ],
      "metadata": {
        "colab": {
          "base_uri": "https://localhost:8080/"
        },
        "id": "-NBkJH2RCf3B",
        "outputId": "3fa7b545-0079-4931-86a4-31ad5f6e268c"
      },
      "execution_count": 29,
      "outputs": [
        {
          "output_type": "execute_result",
          "data": {
            "text/plain": [
              "10"
            ]
          },
          "metadata": {},
          "execution_count": 29
        }
      ]
    },
    {
      "cell_type": "code",
      "source": [
        "df.Quantity.min()"
      ],
      "metadata": {
        "colab": {
          "base_uri": "https://localhost:8080/"
        },
        "id": "jBdHQzhwCxft",
        "outputId": "7419d93c-930e-47cb-9cfb-1bc58320c228"
      },
      "execution_count": 30,
      "outputs": [
        {
          "output_type": "execute_result",
          "data": {
            "text/plain": [
              "1"
            ]
          },
          "metadata": {},
          "execution_count": 30
        }
      ]
    },
    {
      "cell_type": "code",
      "source": [
        "df.Quantity.mean"
      ],
      "metadata": {
        "colab": {
          "base_uri": "https://localhost:8080/"
        },
        "id": "ymSy7jD0C04X",
        "outputId": "46fac4c8-080e-4482-8e37-c7cfe0b3d562"
      },
      "execution_count": 31,
      "outputs": [
        {
          "output_type": "execute_result",
          "data": {
            "text/plain": [
              "<bound method NDFrame._add_numeric_operations.<locals>.mean of 0       7\n",
              "1       5\n",
              "2       7\n",
              "3       8\n",
              "4       7\n",
              "       ..\n",
              "995     1\n",
              "996    10\n",
              "997     1\n",
              "998     1\n",
              "999     7\n",
              "Name: Quantity, Length: 1000, dtype: int64>"
            ]
          },
          "metadata": {},
          "execution_count": 31
        }
      ]
    },
    {
      "cell_type": "code",
      "source": [
        "df.loc[df['Productline']==\"Health and beauty\"]"
      ],
      "metadata": {
        "colab": {
          "base_uri": "https://localhost:8080/",
          "height": 661
        },
        "id": "6-8miY-WC3Mk",
        "outputId": "56a8f25a-abf4-4805-af6c-cc016982239c"
      },
      "execution_count": 34,
      "outputs": [
        {
          "output_type": "execute_result",
          "data": {
            "text/plain": [
              "      No    InvoiceID Branch       City Customertype  Gender  \\\n",
              "0      1  750-67-8428      A     Yangon       Member  Female   \n",
              "3      4  123-19-1176      A     Yangon       Member    Male   \n",
              "8      9  665-32-9167      A     Yangon       Member  Female   \n",
              "14    15  829-34-3910      A     Yangon       Normal  Female   \n",
              "16    17  656-95-9349      A     Yangon       Member  Female   \n",
              "..   ...          ...    ...        ...          ...     ...   \n",
              "983  984  148-41-7930      C  Naypyitaw       Normal    Male   \n",
              "986  987  764-44-8999      B   Mandalay       Normal  Female   \n",
              "987  988  552-44-5977      B   Mandalay       Member    Male   \n",
              "989  990  430-53-4718      B   Mandalay       Member    Male   \n",
              "995  996  233-67-5758      C  Naypyitaw       Normal    Male   \n",
              "\n",
              "           Productline  Unitprice  Quantity      Tax     Total       Date  \\\n",
              "0    Health and beauty      74.69         7  26.1415  548.9715   1/5/2019   \n",
              "3    Health and beauty      58.22         8  23.2880  489.0480  1/27/2019   \n",
              "8    Health and beauty      36.26         2   3.6260   76.1460  1/10/2019   \n",
              "14   Health and beauty      71.38        10  35.6900  749.4900  3/29/2019   \n",
              "16   Health and beauty      68.93         7  24.1255  506.6355  3/11/2019   \n",
              "..                 ...        ...       ...      ...       ...        ...   \n",
              "983  Health and beauty      99.96         7  34.9860  734.7060  1/23/2019   \n",
              "986  Health and beauty      14.76         2   1.4760   30.9960  2/18/2019   \n",
              "987  Health and beauty      62.00         8  24.8000  520.8000   1/3/2019   \n",
              "989  Health and beauty      75.37         8  30.1480  633.1080  1/28/2019   \n",
              "995  Health and beauty      40.35         1   2.0175   42.3675  1/29/2019   \n",
              "\n",
              "      Time      Payment    cogs  gross_margin_percentage  gross_iincome  \\\n",
              "0    13:08      Ewallet  522.83                 4.761905        26.1415   \n",
              "3    20:33      Ewallet  465.76                 4.761905        23.2880   \n",
              "8    17:15  Credit card   72.52                 4.761905         3.6260   \n",
              "14   19:21         Cash  713.80                 4.761905        35.6900   \n",
              "16   11:03  Credit card  482.51                 4.761905        24.1255   \n",
              "..     ...          ...     ...                      ...            ...   \n",
              "983  10:33         Cash  699.72                 4.761905        34.9860   \n",
              "986  14:42      Ewallet   29.52                 4.761905         1.4760   \n",
              "987  19:08  Credit card  496.00                 4.761905        24.8000   \n",
              "989  15:46  Credit card  602.96                 4.761905        30.1480   \n",
              "995  13:46      Ewallet   40.35                 4.761905         2.0175   \n",
              "\n",
              "     Rating  \n",
              "0       9.1  \n",
              "3       8.4  \n",
              "8       7.2  \n",
              "14      5.7  \n",
              "16      4.6  \n",
              "..      ...  \n",
              "983     6.1  \n",
              "986     4.3  \n",
              "987     6.2  \n",
              "989     8.4  \n",
              "995     6.2  \n",
              "\n",
              "[152 rows x 18 columns]"
            ],
            "text/html": [
              "\n",
              "  <div id=\"df-e80e960d-3acd-441e-a14c-dcea7b367a51\">\n",
              "    <div class=\"colab-df-container\">\n",
              "      <div>\n",
              "<style scoped>\n",
              "    .dataframe tbody tr th:only-of-type {\n",
              "        vertical-align: middle;\n",
              "    }\n",
              "\n",
              "    .dataframe tbody tr th {\n",
              "        vertical-align: top;\n",
              "    }\n",
              "\n",
              "    .dataframe thead th {\n",
              "        text-align: right;\n",
              "    }\n",
              "</style>\n",
              "<table border=\"1\" class=\"dataframe\">\n",
              "  <thead>\n",
              "    <tr style=\"text-align: right;\">\n",
              "      <th></th>\n",
              "      <th>No</th>\n",
              "      <th>InvoiceID</th>\n",
              "      <th>Branch</th>\n",
              "      <th>City</th>\n",
              "      <th>Customertype</th>\n",
              "      <th>Gender</th>\n",
              "      <th>Productline</th>\n",
              "      <th>Unitprice</th>\n",
              "      <th>Quantity</th>\n",
              "      <th>Tax</th>\n",
              "      <th>Total</th>\n",
              "      <th>Date</th>\n",
              "      <th>Time</th>\n",
              "      <th>Payment</th>\n",
              "      <th>cogs</th>\n",
              "      <th>gross_margin_percentage</th>\n",
              "      <th>gross_iincome</th>\n",
              "      <th>Rating</th>\n",
              "    </tr>\n",
              "  </thead>\n",
              "  <tbody>\n",
              "    <tr>\n",
              "      <th>0</th>\n",
              "      <td>1</td>\n",
              "      <td>750-67-8428</td>\n",
              "      <td>A</td>\n",
              "      <td>Yangon</td>\n",
              "      <td>Member</td>\n",
              "      <td>Female</td>\n",
              "      <td>Health and beauty</td>\n",
              "      <td>74.69</td>\n",
              "      <td>7</td>\n",
              "      <td>26.1415</td>\n",
              "      <td>548.9715</td>\n",
              "      <td>1/5/2019</td>\n",
              "      <td>13:08</td>\n",
              "      <td>Ewallet</td>\n",
              "      <td>522.83</td>\n",
              "      <td>4.761905</td>\n",
              "      <td>26.1415</td>\n",
              "      <td>9.1</td>\n",
              "    </tr>\n",
              "    <tr>\n",
              "      <th>3</th>\n",
              "      <td>4</td>\n",
              "      <td>123-19-1176</td>\n",
              "      <td>A</td>\n",
              "      <td>Yangon</td>\n",
              "      <td>Member</td>\n",
              "      <td>Male</td>\n",
              "      <td>Health and beauty</td>\n",
              "      <td>58.22</td>\n",
              "      <td>8</td>\n",
              "      <td>23.2880</td>\n",
              "      <td>489.0480</td>\n",
              "      <td>1/27/2019</td>\n",
              "      <td>20:33</td>\n",
              "      <td>Ewallet</td>\n",
              "      <td>465.76</td>\n",
              "      <td>4.761905</td>\n",
              "      <td>23.2880</td>\n",
              "      <td>8.4</td>\n",
              "    </tr>\n",
              "    <tr>\n",
              "      <th>8</th>\n",
              "      <td>9</td>\n",
              "      <td>665-32-9167</td>\n",
              "      <td>A</td>\n",
              "      <td>Yangon</td>\n",
              "      <td>Member</td>\n",
              "      <td>Female</td>\n",
              "      <td>Health and beauty</td>\n",
              "      <td>36.26</td>\n",
              "      <td>2</td>\n",
              "      <td>3.6260</td>\n",
              "      <td>76.1460</td>\n",
              "      <td>1/10/2019</td>\n",
              "      <td>17:15</td>\n",
              "      <td>Credit card</td>\n",
              "      <td>72.52</td>\n",
              "      <td>4.761905</td>\n",
              "      <td>3.6260</td>\n",
              "      <td>7.2</td>\n",
              "    </tr>\n",
              "    <tr>\n",
              "      <th>14</th>\n",
              "      <td>15</td>\n",
              "      <td>829-34-3910</td>\n",
              "      <td>A</td>\n",
              "      <td>Yangon</td>\n",
              "      <td>Normal</td>\n",
              "      <td>Female</td>\n",
              "      <td>Health and beauty</td>\n",
              "      <td>71.38</td>\n",
              "      <td>10</td>\n",
              "      <td>35.6900</td>\n",
              "      <td>749.4900</td>\n",
              "      <td>3/29/2019</td>\n",
              "      <td>19:21</td>\n",
              "      <td>Cash</td>\n",
              "      <td>713.80</td>\n",
              "      <td>4.761905</td>\n",
              "      <td>35.6900</td>\n",
              "      <td>5.7</td>\n",
              "    </tr>\n",
              "    <tr>\n",
              "      <th>16</th>\n",
              "      <td>17</td>\n",
              "      <td>656-95-9349</td>\n",
              "      <td>A</td>\n",
              "      <td>Yangon</td>\n",
              "      <td>Member</td>\n",
              "      <td>Female</td>\n",
              "      <td>Health and beauty</td>\n",
              "      <td>68.93</td>\n",
              "      <td>7</td>\n",
              "      <td>24.1255</td>\n",
              "      <td>506.6355</td>\n",
              "      <td>3/11/2019</td>\n",
              "      <td>11:03</td>\n",
              "      <td>Credit card</td>\n",
              "      <td>482.51</td>\n",
              "      <td>4.761905</td>\n",
              "      <td>24.1255</td>\n",
              "      <td>4.6</td>\n",
              "    </tr>\n",
              "    <tr>\n",
              "      <th>...</th>\n",
              "      <td>...</td>\n",
              "      <td>...</td>\n",
              "      <td>...</td>\n",
              "      <td>...</td>\n",
              "      <td>...</td>\n",
              "      <td>...</td>\n",
              "      <td>...</td>\n",
              "      <td>...</td>\n",
              "      <td>...</td>\n",
              "      <td>...</td>\n",
              "      <td>...</td>\n",
              "      <td>...</td>\n",
              "      <td>...</td>\n",
              "      <td>...</td>\n",
              "      <td>...</td>\n",
              "      <td>...</td>\n",
              "      <td>...</td>\n",
              "      <td>...</td>\n",
              "    </tr>\n",
              "    <tr>\n",
              "      <th>983</th>\n",
              "      <td>984</td>\n",
              "      <td>148-41-7930</td>\n",
              "      <td>C</td>\n",
              "      <td>Naypyitaw</td>\n",
              "      <td>Normal</td>\n",
              "      <td>Male</td>\n",
              "      <td>Health and beauty</td>\n",
              "      <td>99.96</td>\n",
              "      <td>7</td>\n",
              "      <td>34.9860</td>\n",
              "      <td>734.7060</td>\n",
              "      <td>1/23/2019</td>\n",
              "      <td>10:33</td>\n",
              "      <td>Cash</td>\n",
              "      <td>699.72</td>\n",
              "      <td>4.761905</td>\n",
              "      <td>34.9860</td>\n",
              "      <td>6.1</td>\n",
              "    </tr>\n",
              "    <tr>\n",
              "      <th>986</th>\n",
              "      <td>987</td>\n",
              "      <td>764-44-8999</td>\n",
              "      <td>B</td>\n",
              "      <td>Mandalay</td>\n",
              "      <td>Normal</td>\n",
              "      <td>Female</td>\n",
              "      <td>Health and beauty</td>\n",
              "      <td>14.76</td>\n",
              "      <td>2</td>\n",
              "      <td>1.4760</td>\n",
              "      <td>30.9960</td>\n",
              "      <td>2/18/2019</td>\n",
              "      <td>14:42</td>\n",
              "      <td>Ewallet</td>\n",
              "      <td>29.52</td>\n",
              "      <td>4.761905</td>\n",
              "      <td>1.4760</td>\n",
              "      <td>4.3</td>\n",
              "    </tr>\n",
              "    <tr>\n",
              "      <th>987</th>\n",
              "      <td>988</td>\n",
              "      <td>552-44-5977</td>\n",
              "      <td>B</td>\n",
              "      <td>Mandalay</td>\n",
              "      <td>Member</td>\n",
              "      <td>Male</td>\n",
              "      <td>Health and beauty</td>\n",
              "      <td>62.00</td>\n",
              "      <td>8</td>\n",
              "      <td>24.8000</td>\n",
              "      <td>520.8000</td>\n",
              "      <td>1/3/2019</td>\n",
              "      <td>19:08</td>\n",
              "      <td>Credit card</td>\n",
              "      <td>496.00</td>\n",
              "      <td>4.761905</td>\n",
              "      <td>24.8000</td>\n",
              "      <td>6.2</td>\n",
              "    </tr>\n",
              "    <tr>\n",
              "      <th>989</th>\n",
              "      <td>990</td>\n",
              "      <td>430-53-4718</td>\n",
              "      <td>B</td>\n",
              "      <td>Mandalay</td>\n",
              "      <td>Member</td>\n",
              "      <td>Male</td>\n",
              "      <td>Health and beauty</td>\n",
              "      <td>75.37</td>\n",
              "      <td>8</td>\n",
              "      <td>30.1480</td>\n",
              "      <td>633.1080</td>\n",
              "      <td>1/28/2019</td>\n",
              "      <td>15:46</td>\n",
              "      <td>Credit card</td>\n",
              "      <td>602.96</td>\n",
              "      <td>4.761905</td>\n",
              "      <td>30.1480</td>\n",
              "      <td>8.4</td>\n",
              "    </tr>\n",
              "    <tr>\n",
              "      <th>995</th>\n",
              "      <td>996</td>\n",
              "      <td>233-67-5758</td>\n",
              "      <td>C</td>\n",
              "      <td>Naypyitaw</td>\n",
              "      <td>Normal</td>\n",
              "      <td>Male</td>\n",
              "      <td>Health and beauty</td>\n",
              "      <td>40.35</td>\n",
              "      <td>1</td>\n",
              "      <td>2.0175</td>\n",
              "      <td>42.3675</td>\n",
              "      <td>1/29/2019</td>\n",
              "      <td>13:46</td>\n",
              "      <td>Ewallet</td>\n",
              "      <td>40.35</td>\n",
              "      <td>4.761905</td>\n",
              "      <td>2.0175</td>\n",
              "      <td>6.2</td>\n",
              "    </tr>\n",
              "  </tbody>\n",
              "</table>\n",
              "<p>152 rows × 18 columns</p>\n",
              "</div>\n",
              "      <button class=\"colab-df-convert\" onclick=\"convertToInteractive('df-e80e960d-3acd-441e-a14c-dcea7b367a51')\"\n",
              "              title=\"Convert this dataframe to an interactive table.\"\n",
              "              style=\"display:none;\">\n",
              "        \n",
              "  <svg xmlns=\"http://www.w3.org/2000/svg\" height=\"24px\"viewBox=\"0 0 24 24\"\n",
              "       width=\"24px\">\n",
              "    <path d=\"M0 0h24v24H0V0z\" fill=\"none\"/>\n",
              "    <path d=\"M18.56 5.44l.94 2.06.94-2.06 2.06-.94-2.06-.94-.94-2.06-.94 2.06-2.06.94zm-11 1L8.5 8.5l.94-2.06 2.06-.94-2.06-.94L8.5 2.5l-.94 2.06-2.06.94zm10 10l.94 2.06.94-2.06 2.06-.94-2.06-.94-.94-2.06-.94 2.06-2.06.94z\"/><path d=\"M17.41 7.96l-1.37-1.37c-.4-.4-.92-.59-1.43-.59-.52 0-1.04.2-1.43.59L10.3 9.45l-7.72 7.72c-.78.78-.78 2.05 0 2.83L4 21.41c.39.39.9.59 1.41.59.51 0 1.02-.2 1.41-.59l7.78-7.78 2.81-2.81c.8-.78.8-2.07 0-2.86zM5.41 20L4 18.59l7.72-7.72 1.47 1.35L5.41 20z\"/>\n",
              "  </svg>\n",
              "      </button>\n",
              "      \n",
              "  <style>\n",
              "    .colab-df-container {\n",
              "      display:flex;\n",
              "      flex-wrap:wrap;\n",
              "      gap: 12px;\n",
              "    }\n",
              "\n",
              "    .colab-df-convert {\n",
              "      background-color: #E8F0FE;\n",
              "      border: none;\n",
              "      border-radius: 50%;\n",
              "      cursor: pointer;\n",
              "      display: none;\n",
              "      fill: #1967D2;\n",
              "      height: 32px;\n",
              "      padding: 0 0 0 0;\n",
              "      width: 32px;\n",
              "    }\n",
              "\n",
              "    .colab-df-convert:hover {\n",
              "      background-color: #E2EBFA;\n",
              "      box-shadow: 0px 1px 2px rgba(60, 64, 67, 0.3), 0px 1px 3px 1px rgba(60, 64, 67, 0.15);\n",
              "      fill: #174EA6;\n",
              "    }\n",
              "\n",
              "    [theme=dark] .colab-df-convert {\n",
              "      background-color: #3B4455;\n",
              "      fill: #D2E3FC;\n",
              "    }\n",
              "\n",
              "    [theme=dark] .colab-df-convert:hover {\n",
              "      background-color: #434B5C;\n",
              "      box-shadow: 0px 1px 3px 1px rgba(0, 0, 0, 0.15);\n",
              "      filter: drop-shadow(0px 1px 2px rgba(0, 0, 0, 0.3));\n",
              "      fill: #FFFFFF;\n",
              "    }\n",
              "  </style>\n",
              "\n",
              "      <script>\n",
              "        const buttonEl =\n",
              "          document.querySelector('#df-e80e960d-3acd-441e-a14c-dcea7b367a51 button.colab-df-convert');\n",
              "        buttonEl.style.display =\n",
              "          google.colab.kernel.accessAllowed ? 'block' : 'none';\n",
              "\n",
              "        async function convertToInteractive(key) {\n",
              "          const element = document.querySelector('#df-e80e960d-3acd-441e-a14c-dcea7b367a51');\n",
              "          const dataTable =\n",
              "            await google.colab.kernel.invokeFunction('convertToInteractive',\n",
              "                                                     [key], {});\n",
              "          if (!dataTable) return;\n",
              "\n",
              "          const docLinkHtml = 'Like what you see? Visit the ' +\n",
              "            '<a target=\"_blank\" href=https://colab.research.google.com/notebooks/data_table.ipynb>data table notebook</a>'\n",
              "            + ' to learn more about interactive tables.';\n",
              "          element.innerHTML = '';\n",
              "          dataTable['output_type'] = 'display_data';\n",
              "          await google.colab.output.renderOutput(dataTable, element);\n",
              "          const docLink = document.createElement('div');\n",
              "          docLink.innerHTML = docLinkHtml;\n",
              "          element.appendChild(docLink);\n",
              "        }\n",
              "      </script>\n",
              "    </div>\n",
              "  </div>\n",
              "  "
            ]
          },
          "metadata": {},
          "execution_count": 34
        }
      ]
    },
    {
      "cell_type": "code",
      "source": [
        "df.loc[df['Productline']==\"Health and beauty\"].max()"
      ],
      "metadata": {
        "colab": {
          "base_uri": "https://localhost:8080/"
        },
        "id": "BoFq_F77DF9R",
        "outputId": "7b15497e-67e6-4535-af97-eb2e2334e6ba"
      },
      "execution_count": 35,
      "outputs": [
        {
          "output_type": "execute_result",
          "data": {
            "text/plain": [
              "No                                       996\n",
              "InvoiceID                        885-17-6250\n",
              "Branch                                     C\n",
              "City                                  Yangon\n",
              "Customertype                          Normal\n",
              "Gender                                  Male\n",
              "Productline                Health and beauty\n",
              "Unitprice                              99.96\n",
              "Quantity                                  10\n",
              "Tax                                    45.25\n",
              "Total                                 950.25\n",
              "Date                                3/9/2019\n",
              "Time                                   20:44\n",
              "Payment                              Ewallet\n",
              "cogs                                   905.0\n",
              "gross_margin_percentage             4.761905\n",
              "gross_iincome                          45.25\n",
              "Rating                                  10.0\n",
              "dtype: object"
            ]
          },
          "metadata": {},
          "execution_count": 35
        }
      ]
    },
    {
      "cell_type": "code",
      "source": [
        "df.loc[(df['Productline']==\"Health and beauty\") &  ].min()"
      ],
      "metadata": {
        "colab": {
          "base_uri": "https://localhost:8080/"
        },
        "id": "iG6PQ3z8DysS",
        "outputId": "50ae943f-5cc5-4987-91af-c510148333c4"
      },
      "execution_count": 36,
      "outputs": [
        {
          "output_type": "execute_result",
          "data": {
            "text/plain": [
              "No                                         1\n",
              "InvoiceID                        101-81-4070\n",
              "Branch                                     A\n",
              "City                                Mandalay\n",
              "Customertype                          Member\n",
              "Gender                                Female\n",
              "Productline                Health and beauty\n",
              "Unitprice                              10.08\n",
              "Quantity                                   1\n",
              "Tax                                   0.8875\n",
              "Total                                18.6375\n",
              "Date                                1/1/2019\n",
              "Time                                   10:05\n",
              "Payment                                 Cash\n",
              "cogs                                   17.75\n",
              "gross_margin_percentage             4.761905\n",
              "gross_iincome                         0.8875\n",
              "Rating                                   4.0\n",
              "dtype: object"
            ]
          },
          "metadata": {},
          "execution_count": 36
        }
      ]
    },
    {
      "cell_type": "code",
      "source": [
        "df.Quantity."
      ],
      "metadata": {
        "id": "_nJhdsrID14B"
      },
      "execution_count": null,
      "outputs": []
    }
  ]
}